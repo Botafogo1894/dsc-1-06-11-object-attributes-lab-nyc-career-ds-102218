{
 "cells": [
  {
   "cell_type": "markdown",
   "metadata": {},
   "source": [
    "# Object Attributes - Lab"
   ]
  },
  {
   "cell_type": "markdown",
   "metadata": {},
   "source": [
    "## Introduction\n",
    "In this lab, we will practice defining classes and instance methods. We will also practice working with getter and setter (read and write) methods using properties and decorators to operate on instance variables."
   ]
  },
  {
   "cell_type": "markdown",
   "metadata": {},
   "source": [
    "## Objectives\n",
    "\n",
    "You will be able to:\n",
    "\n",
    "* Practice defining classes and instantiating instances of those classes\n",
    "* Practice defining instance methods"
   ]
  },
  {
   "cell_type": "markdown",
   "metadata": {},
   "source": [
    "## Defining Classes and Instance Methods"
   ]
  },
  {
   "cell_type": "markdown",
   "metadata": {},
   "source": [
    "In the cells below define a `Driver` class and define a `Passenger` class.\n",
    "\n",
    "Our driver instance objects should have instance variables for first name, last name, miles driven, and rating. We can name these instance variables `_first`, `_last` (short for first and last name), `_miles_driven`, and `_rating`. We will want to be able to access, change, and delete these values using the appropriate properties. \n",
    "\n",
    "After defining the above instance methods, define an instance method called `greet_passenger`, which returns the string `Hello! I'll be your driver today. My name is ` followed by that driver's first name and last name (i.e. `Hello! I'll be your driver today. My name is John Doe`)."
   ]
  },
  {
   "cell_type": "code",
   "execution_count": 19,
   "metadata": {},
   "outputs": [],
   "source": [
    "class Driver:\n",
    "\n",
    "#init method\n",
    "    def __init__(self, first, last, miles_driven, rating):\n",
    "        self._first = first\n",
    "        self._last = last\n",
    "        self._miles_driven = miles_driven\n",
    "        self._rating = rating\n",
    "        \n",
    "#setters and getters for First\n",
    "\n",
    "    def get_first(self):\n",
    "        print(\"GETTING FIRST NAME\")\n",
    "        return self._first\n",
    "        \n",
    "    def set_first(self, first):\n",
    "        print(\"SETTING FIRST NAME\")\n",
    "        self._first = first\n",
    "\n",
    "    first = property(get_first, set_first)\n",
    "    \n",
    "#setters and getters for Last\n",
    "    def get_last(self):\n",
    "        print(\"GETTING LAST NAME\")\n",
    "        return self._last\n",
    "        \n",
    "    def set_last(self, last):\n",
    "        print(\"SETTING LAST NAME\")\n",
    "        self._first = last\n",
    "        \n",
    "    last = property(get_last, set_last)\n",
    "#setters and getters for miles driven\n",
    "\n",
    "    def get_miles_driven(self):\n",
    "        print(\"GETTING MILES\")\n",
    "        return self._miles_driven\n",
    "        \n",
    "    def set_miles_driven(self, miles_driven):\n",
    "        print(\"SETTING MILES\")\n",
    "        self.__miles_driven = miles_driven\n",
    "        \n",
    "    miles_driven = property(get_miles_driven, set_miles_driven)\n",
    "    \n",
    "#setters and getters fro rating\n",
    "\n",
    "    def get_rating(self):\n",
    "        print(\"GETTING RATING\")\n",
    "        return self._rating\n",
    "        \n",
    "    def set_rating(self, rating):\n",
    "        print(\"SETTING RATING\")\n",
    "        self._rating = rating\n",
    "        \n",
    "    rating = property(get_rating, set_rating)\n",
    "    \n",
    "    def greet_passenger(self):\n",
    "        return \"Hello! I'll be your driver today. My name is \" + self.first + \" \" + self.last\n"
   ]
  },
  {
   "cell_type": "code",
   "execution_count": 23,
   "metadata": {},
   "outputs": [
    {
     "name": "stdout",
     "output_type": "stream",
     "text": [
      "{'_first': 'Rachel', '_last': 'Jensen', '_miles_driven': 100, '_rating': 4.9}\n",
      "GETTING FIRST NAME\n",
      "Rachel\n",
      "GETTING LAST NAME\n",
      "Jensen\n",
      "GETTING MILES\n",
      "100\n",
      "GETTING RATING\n",
      "4.9\n",
      "GETTING FIRST NAME\n",
      "GETTING LAST NAME\n"
     ]
    },
    {
     "data": {
      "text/plain": [
       "\"Hello! I'll be your driver today. My name is Rachel Jensen\""
      ]
     },
     "execution_count": 23,
     "metadata": {},
     "output_type": "execute_result"
    }
   ],
   "source": [
    "driver = Driver(\"Rachel\", \"Jensen\", 100, 4.9)\n",
    "\n",
    "print(vars(driver))\n",
    "\n",
    "print(driver.first) # \"Rachel\"\n",
    "print(driver.last) # \"Jensen\"\n",
    "print(driver.miles_driven) # 100\n",
    "print(driver.rating) # 4.9\n",
    "driver.greet_passenger() # Hello! I'll be your driver today. My name is Rachel Jensen"
   ]
  },
  {
   "cell_type": "markdown",
   "metadata": {},
   "source": [
    "In the `Passenger` class, we will want our passenger instance objects to have the attributes first name, last name, and email. Let's continue using the leading underscore naming convention we employed in our `Driver` class and name these instance variables `_first`, `_last`, and `_email`. Define the appropriate instance methods using property and the appropriate decorators for reading (getting), writing (setting), and deleting instance variables. \n",
    "\n",
    "Next, we want to define an instance method called `yell_name` which returns a string with the passengers name in all caps (i.e. \"RON BURGUNDY\"). "
   ]
  },
  {
   "cell_type": "code",
   "execution_count": null,
   "metadata": {
    "collapsed": true
   },
   "outputs": [],
   "source": [
    "class Passenger:\n",
    "\n",
    "#init method\n",
    "    def __init__(self, first, last, email):\n",
    "        self._first = first\n",
    "        self._last = last\n",
    "        self._email = email\n",
    "        \n",
    "#setters and getters for First\n",
    "\n",
    "    def get_first(self):\n",
    "        print(\"GETTING FIRST NAME\")\n",
    "        return self._first\n",
    "        \n",
    "    def set_first(self, first):\n",
    "        print(\"SETTING FIRST NAME\")\n",
    "        self._first = first\n",
    "\n",
    "    first = property(get_first, set_first)\n",
    "    \n",
    "#setters and getters for Last\n",
    "    def get_last(self):\n",
    "        print(\"GETTING LAST NAME\")\n",
    "        return self._last\n",
    "        \n",
    "    def set_last(self, last):\n",
    "        print(\"SETTING LAST NAME\")\n",
    "        self._first = last\n",
    "        \n",
    "    last = property(get_last, set_last)\n",
    "#setters and getters for email\n",
    "\n",
    "    def get_email(self):\n",
    "        print(\"GETTING MILES\")\n",
    "        return self._email\n",
    "        \n",
    "    def set_miles_driven(self, email):\n",
    "        print(\"SETTING MILES\")\n",
    "        self._email = email\n",
    "        \n",
    "    email = property(get_email, set_email)\n",
    "\n",
    "#define Yell name\n",
    "\n",
    "    def yell_name(self):\n",
    "        return \n"
   ]
  },
  {
   "cell_type": "code",
   "execution_count": null,
   "metadata": {
    "collapsed": true
   },
   "outputs": [],
   "source": [
    "passenger = Passenger()\n",
    "passenger.first = \"Ron\"\n",
    "passenger.last = \"Burgundy\"\n",
    "passenger.email = \"ron.burgundy1984@gmail.com\"\n",
    "print(passenger.first) # \"Ron\"\n",
    "print(passenger.last) # \"Burgundy\"\n",
    "print(passenger.email) # \"ron.burgundy1984@gmail.com\"\n",
    "passenger.yell_name() # \"RON BURGUNDY\""
   ]
  },
  {
   "cell_type": "markdown",
   "metadata": {},
   "source": [
    "Great work!"
   ]
  },
  {
   "cell_type": "markdown",
   "metadata": {},
   "source": [
    "## Summary\n",
    "In this lab, we practiced defining classes, instance methods, and utilizing the property function to create, getter setter, and deleter properties so we could access and operate on our instance variables."
   ]
  }
 ],
 "metadata": {
  "kernelspec": {
   "display_name": "Python 3",
   "language": "python",
   "name": "python3"
  },
  "language_info": {
   "codemirror_mode": {
    "name": "ipython",
    "version": 3
   },
   "file_extension": ".py",
   "mimetype": "text/x-python",
   "name": "python",
   "nbconvert_exporter": "python",
   "pygments_lexer": "ipython3",
   "version": "3.6.6"
  }
 },
 "nbformat": 4,
 "nbformat_minor": 2
}
